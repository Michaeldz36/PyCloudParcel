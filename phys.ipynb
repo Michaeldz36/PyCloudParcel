{
 "cells": [
  {
   "cell_type": "code",
   "execution_count": 5,
   "metadata": {},
   "outputs": [],
   "source": [
    "from scipy import constants as sci"
   ]
  },
  {
   "cell_type": "code",
   "execution_count": 7,
   "metadata": {},
   "outputs": [],
   "source": [
    "import mendeleev as pt\n",
    "def awgh(x):\n",
    "    return x.atomic_weight * si.gram / si.mole"
   ]
  },
  {
   "cell_type": "code",
   "execution_count": 8,
   "metadata": {},
   "outputs": [],
   "source": [
    "# constants\n",
    "class phys:\n",
    "    g     = sci.g * si.metre / si.second**2\n",
    "    pi    = sci.pi\n",
    "    R_str = sci.R * si.joule / si.kelvin / si.mole       \n",
    "\n",
    "\n",
    "    c_pd  = 1005 * si.joule / si.kilogram / si.kelvin\n",
    "    c_pv  = 1850 * si.joule / si.kilogram / si.kelvin\n",
    "    c_pw  = 4218 * si.joule / si.kilogram / si.kelvin\n",
    "    \n",
    "    p_tri = 611.73  * si.pascal\n",
    "    T_tri = 273.16  * si.kelvin\n",
    "    l_tri = 2.5e6   * si.joule / si.kilogram\n",
    "    \n",
    "    sgm   = 0.072   * si.joule / si.metre**2\n",
    "    rho_w = 1 * si.kilograms / si.litres\n",
    "    \n",
    "    Md    = 0.78 * awgh(pt.N) * 2 + 0.21 * awgh(pt.O) * 2 + 0.01 * awgh(pt.Ar)\n",
    "    Mv    = awgh(pt.O) + awgh(pt.H) * 2\n",
    "    eps   = Mv / Md\n",
    "    Rd    = R_str / Md\n",
    "    Rv    = R_str / Mv\n",
    "    D0    = 2.26e-5 * si.metre**2 / si.second\n",
    "    K0    = 2.4e-2  * si.joules / si.metres / si.seconds / si.kelvins\n",
    "    \n",
    "    \n",
    "# pressure deriv. (hydrostatic) \n",
    "phys.dp_dt = lambda p, T, w, q: -(p / phys.R(q) / T) * phys.g * w\n",
    "\n",
    "\n",
    "# temperature deriv. (adiabatic)\n",
    "phys.dT_dt = lambda T,  p, dp_dt, q, dq_dt : (T * phys.R(q) / p * dp_dt - phys.lv(T)*dq_dt ) / phys.c_p(q)\n",
    "\n",
    "\n",
    "# specific humidity deriv.\n",
    "phys.dq_dt = lambda n, r, dr_dt: -4 * sci.pi * np.sum(n * r**2 * dr_dt) * phys.rho_w\n",
    "\n",
    "# funkcja lambda wystarczy zdefiniować jedną i odwoływać się do niej\n",
    "phys.dr_dt = lambda r, T, RH, kp, rd: 1/r * (RH - 1 - phys.A(T)/r + phys.B(kp,rd)/r**3) / (phys.Fd(T)+phys.Fk(T,phys.lv(T)))\n",
    "\n",
    "# RH from specific humidity, temperature and pressure\n",
    "phys.RH = lambda T, p, q: p * q / (phys.eps + q * (1 - phys.eps)) / phys.pvs(T)\n",
    "\n",
    "#\n",
    "phys.mix = lambda q, dry, wet: wet/(1/q + 1) + dry/(1 + q)\n",
    "phys.c_p = lambda q: phys.mix(q, phys.c_pd, phys.c_pv)\n",
    "phys.R   = lambda q: phys.mix(q, phys.Rd, phys.Rv)\n",
    "\n",
    "# latent heat of evaporation \n",
    "phys.lv  = lambda T: phys.l_tri + (phys.c_pv - phys.c_pw) * (T - phys.T_tri)\n",
    "\n",
    "# Maxwel-Mason coefficients\n",
    "phys.Fd = lambda T: phys.rho_w * phys.Rv * T / phys.D0 / phys.pvs(T)\n",
    "phys.Fk = lambda T, lv: phys.rho_w * lv / phys.K0 / T * (lv / phys.Rv / T - 1)\n",
    "\n",
    "# Koehler curve (expressed in partial pressure)      <--- co z rd?\n",
    "phys.A = lambda T: 2 * phys.sgm / phys.Rv / T / phys.rho_w\n",
    "phys.B = lambda kp, rd: kp * rd**3\n",
    "\n",
    "# critical radius\n",
    "phys.r_cr = lambda kp, rd, T: sqrt(3 * kp * rd**3 / phys.A(T))\n"
   ]
  },
  {
   "cell_type": "code",
   "execution_count": 9,
   "metadata": {},
   "outputs": [],
   "source": [
    "# integrated Clausius-Clapeyron eq.\n",
    "phys.pvs = lambda T: phys.p_tri * exp(\n",
    "    (phys.l_tri + (phys.c_pw - phys.c_pv) * phys.T_tri) / phys.Rv * (1 / phys.T_tri - 1/T) - \n",
    "    (phys.c_pw - phys.c_pv) / phys.Rv * log(T / phys.T_tri)\n",
    ")\n",
    "\n",
    "# latent heat of evaporation \n",
    "phys.lv  = lambda T: phys.l_tri + (phys.c_pv - phys.c_pw) * (T - phys.T_tri)"
   ]
  },
  {
   "cell_type": "code",
   "execution_count": null,
   "metadata": {},
   "outputs": [],
   "source": []
  }
 ],
 "metadata": {
  "kernelspec": {
   "display_name": "Python 3",
   "language": "python",
   "name": "python3"
  },
  "language_info": {
   "codemirror_mode": {
    "name": "ipython",
    "version": 3
   },
   "file_extension": ".py",
   "mimetype": "text/x-python",
   "name": "python",
   "nbconvert_exporter": "python",
   "pygments_lexer": "ipython3",
   "version": "3.7.1"
  }
 },
 "nbformat": 4,
 "nbformat_minor": 2
}
