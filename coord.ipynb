{
 "cells": [
  {
   "cell_type": "code",
   "execution_count": null,
   "metadata": {},
   "outputs": [],
   "source": [
    "import numpy\n",
    "\n",
    "class x_id:\n",
    "    def __init__(self, si):\n",
    "        self.x_unit = si.dimensionless\n",
    "    def x(self, r): return (r / si.metre).to(self.x_unit)\n",
    "    def r(self, x): return x * si.metre\n",
    "    def dx_dr(self, r): return r**0 / (r / r.to(si.metre))\n",
    "    \n",
    "class x_ln:\n",
    "    def __init__(self, si):\n",
    "        self.si = si\n",
    "        self.r0 = 1 * si.metre\n",
    "        self.x_unit = si.dimensionless\n",
    "    def x(self, r): return numpy.log(r / self.r0)\n",
    "    def r(self, x): return self.r0 * numpy.exp(x)\n",
    "    def dx_dr(self, r): return 1/r\n",
    "    \n",
    "class x_p2:\n",
    "    def __init__(self, si):\n",
    "        self.x_unit = si.dimensionless\n",
    "    def x(self, r): return (r/si.metre)**2\n",
    "    def r(self, x): return numpy.sqrt(x)*si.metre\n",
    "    def dx_dr(self, r): return 2*r"
   ]
  }
 ],
 "metadata": {
  "kernelspec": {
   "display_name": "Python 3",
   "language": "python",
   "name": "python3"
  },
  "language_info": {
   "codemirror_mode": {
    "name": "ipython",
    "version": 3
   },
   "file_extension": ".py",
   "mimetype": "text/x-python",
   "name": "python",
   "nbconvert_exporter": "python",
   "pygments_lexer": "ipython3",
   "version": "3.7.1"
  }
 },
 "nbformat": 4,
 "nbformat_minor": 2
}
