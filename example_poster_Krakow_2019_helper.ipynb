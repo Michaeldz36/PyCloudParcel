{
 "cells": [
  {
   "cell_type": "code",
   "execution_count": null,
   "metadata": {},
   "outputs": [],
   "source": [
    "%run parcel.ipynb"
   ]
  },
  {
   "cell_type": "code",
   "execution_count": null,
   "metadata": {},
   "outputs": [],
   "source": [
    "%matplotlib notebook\n",
    "import matplotlib.pyplot as plt\n",
    "si.setup_matplotlib()"
   ]
  },
  {
   "cell_type": "code",
   "execution_count": null,
   "metadata": {},
   "outputs": [],
   "source": [
    "no = 2\n",
    "nones = lambda: [None] * no"
   ]
  },
  {
   "cell_type": "code",
   "execution_count": null,
   "metadata": {},
   "outputs": [],
   "source": [
    "assert len(setup.rd) == no\n",
    "assert len(setup.nd) == no"
   ]
  },
  {
   "cell_type": "code",
   "execution_count": null,
   "metadata": {},
   "outputs": [],
   "source": [
    "integ, sys = nones(), nones()\n",
    "for i in range(no):\n",
    "    integ[i], sys[i] = parcel(\n",
    "        si = si,\n",
    "        t = setup.t,\n",
    "        T0 = 300 * si.kelvin,\n",
    "        q0 = setup.q0,\n",
    "        p0 = 1000 * si.hectopascals,\n",
    "        w = lambda t: setup.w,\n",
    "        nd = setup.nd[i], \n",
    "        rd = setup.rd[i], \n",
    "        kp = 1.28,\n",
    "        dt_max = setup.dt_max\n",
    "    )"
   ]
  },
  {
   "cell_type": "code",
   "execution_count": null,
   "metadata": {},
   "outputs": [],
   "source": [
    "ixs = nones()\n",
    "ixs[0] = sys[0].ix\n",
    "ixs[1] = sys[1].ix\n",
    "\n",
    "fn = sys[0].fn\n",
    "ph = sys[0].ph"
   ]
  },
  {
   "cell_type": "code",
   "execution_count": null,
   "metadata": {},
   "outputs": [],
   "source": [
    "T, p, q, r, t, dr_dt = nones(), nones(), nones(), nones(), nones(), nones()\n",
    "\n",
    "for i in range(no):\n",
    "    T[i] = integ[i].y[ixs[i].T] * ixs[i].T_unit\n",
    "    p[i] = integ[i].y[ixs[i].p] * ixs[i].p_unit\n",
    "    r[i] = fn.r(integ[i].y[ixs[i].x] * ixs[i].x_unit)\n",
    "    t[i] = integ[i].t * ixs[i].t_unit \n",
    "    \n",
    "    dr_dt[i] = np.empty_like(r[i].magnitude) * ixs[i].r_unit / ixs[i].t_unit\n",
    "    q[i] = np.empty_like(T[i].magnitude) * ixs[i].q_unit\n",
    "\n",
    "    for j, tau in enumerate(integ[i].t):\n",
    "        y = integ[i].y[:, j]\n",
    "        dx_dt = sys[i](tau, y)[ixs[i].x] * ixs[i].x_unit / ixs[i].t_unit\n",
    "        x = y[ixs[i].x] * ixs[i].x_unit\n",
    "        dr_dt[i].magnitude[:, j] = ph.mgn(dx_dt / fn.dx_dr(fn.r(x)), ixs[i].r_unit / ixs[i].t_unit)\n",
    "        q[i].magnitude[j] = ph.mgn(ph.q(sys[i].q1, sys[i].nd, r[i][:, j]), ixs[i].q_unit)"
   ]
  },
  {
   "cell_type": "code",
   "execution_count": null,
   "metadata": {},
   "outputs": [],
   "source": [
    "for i in range(no):\n",
    "    for j in range(ixs[i].x.stop - ixs[i].x.start):\n",
    "        print((r[i][j][0]).to(si.nanometre))"
   ]
  },
  {
   "cell_type": "code",
   "execution_count": null,
   "metadata": {},
   "outputs": [],
   "source": [
    "colors = ['purple', 'green', 'red', 'blue','purple']\n",
    "colors2 = ['gray','black']\n",
    "color = lambda i, j: colors[2*i + j]\n",
    "lw = lambda i: 1.5 * (2-i)"
   ]
  },
  {
   "cell_type": "code",
   "execution_count": null,
   "metadata": {
    "scrolled": false
   },
   "outputs": [],
   "source": [
    "fig, (ax1, ax2, ax3) = plt.subplots(1, 3, sharey=True, figsize=(9,4))\n",
    "\n",
    "plt.xticks([])\n",
    "plt.yticks([])\n",
    "ax1.set_ylim([0, 42])\n",
    "\n",
    "for i in range(no):\n",
    "    ax1.plot(T[0], t[0], label=\"T[\"+str(i)+\"]\", lw=lw(i))\n",
    "    ax2.plot(p[0], t[0], label=\"p[\"+str(i)+\"]\", lw=lw(i))\n",
    "    ax3.plot(ph.RH(T[i], p[i], q[i]), t[i], label=\"RH[\"+str(i)+\"]\", lw=lw(i), color = color(i,j))\n",
    "\n",
    "ax1.grid()\n",
    "ax1.legend()\n",
    "ax1.xaxis.set_units(si.celsius)\n",
    "\n",
    "ax2.grid()\n",
    "ax2.legend()\n",
    "ax2.xaxis.set_units(si.hectopascals)\n",
    "\n",
    "ax3.grid()\n",
    "ax3.legend()\n",
    "\n"
   ]
  },
  {
   "cell_type": "code",
   "execution_count": null,
   "metadata": {},
   "outputs": [],
   "source": [
    "r_cr = nones()\n",
    "for i in range(no):\n",
    "    r_cr[i] = []\n",
    "    for j in range(ixs[i].x.stop - ixs[i].x.start):\n",
    "        r_cr[i].append(ph.r_cr(sys[0].kp, setup.rd[i][j], T[i][:]).to(si.nanometre))\n",
    "# print(len(r_cr[0][1]))"
   ]
  },
  {
   "cell_type": "code",
   "execution_count": null,
   "metadata": {
    "scrolled": false
   },
   "outputs": [],
   "source": [
    "sim = ['monodisperse','bidisperse']\n",
    "fig, (ax1) = plt.subplots(1, 1, figsize=(9,4))\n",
    "for i in range(no):\n",
    "    for j in range(ixs[i].x.stop - ixs[i].x.start):\n",
    "        plt.plot(r[i][j], t[i], label=sim[i], lw=lw(i), color = color(i,j))\n",
    "        plt.plot(r_cr[i][j],t[i], '--', color = color(i,j), lw=lw(i)/1.5)\n",
    "# plt.plot(r_cr,t[0])\n",
    "\n",
    "plt.xscale('log')\n",
    "# plt.yscale('log')\n",
    "plt.grid()\n",
    "plt.legend()\n",
    "ax1.xaxis.set_units(si.micrometre)\n",
    "plt.show()\n",
    "\n",
    "plt.savefig(setup.figname_radii)"
   ]
  },
  {
   "cell_type": "code",
   "execution_count": null,
   "metadata": {},
   "outputs": [],
   "source": [
    "a = nones()\n",
    "for i in range(no):\n",
    "    a[i] = []\n",
    "    for j in range(ixs[i].x.stop - ixs[i].x.start):\n",
    "        a[i].append(ph.A(T[i][:])/r_cr[i][j])\n",
    "\n",
    "b = nones()\n",
    "for i in range(no):\n",
    "    b[i] = []\n",
    "    for j in range(ixs[i].x.stop - ixs[i].x.start):\n",
    "        b[i].append(ph.B(sys[0].kp, setup.rd[i][j])/(r_cr[i][j])**3)\n",
    "        \n",
    "print(np.mean(a[0][0]-b[0][0]))\n",
    "print(np.mean(a[1][0]-b[1][0]))\n",
    "print(np.mean(a[1][1]-b[1][1]))"
   ]
  },
  {
   "cell_type": "code",
   "execution_count": null,
   "metadata": {},
   "outputs": [],
   "source": [
    "fig, (ax1, ax2, ax3) = plt.subplots(1, 3, figsize=(10,4), sharey=True)\n",
    "for i in range(no):\n",
    "    for j in range( ixs[i].x.stop - ixs[i].x.start):\n",
    "        y = t[0]\n",
    "        x = np.empty_like(dr_dt[0][0].magnitude) * dr_dt[0].units\n",
    "        x.magnitude[:] = np.interp(y.magnitude, t[i].magnitude, dr_dt[i][j].magnitude) \n",
    "        ax1.plot(x, y, label=sim[i], lw = lw(i),color = color(i,j))\n",
    "        ax2.plot(x - dr_dt[0][0], y,  lw = lw(i),color = color(i,j))\n",
    "        if j == 0: ax3.plot(ph.RH(T[i], p[i], q[i])-1, t[i], lw = 1.5*lw(i), color = colors2[i], label = sim[i])\n",
    "        ax3.plot(a[i][j]-b[i][j], t[i], '--', color = color(i,j), lw=lw(i)/1.5)\n",
    "\n",
    "#plt.xscale('log')\n",
    "#plt.xlim(1e-2, .7)\n",
    "# plt.yscale('log')\n",
    "ax1.title.set_text('dr/dt')\n",
    "ax1.grid()\n",
    "ax1.xaxis.set_units(si.micrometre/si.second)\n",
    "ax1.legend()\n",
    "\n",
    "ax2.title.set_text('wrt dr/dt (mono)')\n",
    "ax2.grid()\n",
    "ax2.xaxis.set_units(si.nanometer/si.second)\n",
    "# ax2.legend(loc=\"upper right\")\n",
    "\n",
    "ax3.title.set_text('supersaturation')\n",
    "ax3.grid()\n",
    "ax3.legend(loc = 'lower right')\n",
    "ax3.set_xlim(setup.S_min, setup.S_max)\n",
    "\n",
    "plt.show()\n",
    "\n",
    "\n",
    "plt.savefig(setup.figname_profiles)"
   ]
  },
  {
   "cell_type": "code",
   "execution_count": null,
   "metadata": {},
   "outputs": [],
   "source": []
  },
  {
   "cell_type": "code",
   "execution_count": null,
   "metadata": {},
   "outputs": [],
   "source": []
  },
  {
   "cell_type": "code",
   "execution_count": null,
   "metadata": {},
   "outputs": [],
   "source": []
  }
 ],
 "metadata": {
  "kernelspec": {
   "display_name": "Python 3",
   "language": "python",
   "name": "python3"
  },
  "language_info": {
   "codemirror_mode": {
    "name": "ipython",
    "version": 3
   },
   "file_extension": ".py",
   "mimetype": "text/x-python",
   "name": "python",
   "nbconvert_exporter": "python",
   "pygments_lexer": "ipython3",
   "version": "3.7.1"
  }
 },
 "nbformat": 4,
 "nbformat_minor": 2
}
