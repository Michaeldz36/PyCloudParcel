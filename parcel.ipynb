{
 "cells": [
  {
   "cell_type": "code",
   "execution_count": 28,
   "metadata": {},
   "outputs": [],
   "source": [
    "from numpy import exp, log, sqrt, empty, sum\n",
    "import numpy as np\n",
    "from scipy import integrate as ode, optimize as root"
   ]
  },
  {
   "cell_type": "code",
   "execution_count": 29,
   "metadata": {},
   "outputs": [],
   "source": [
    "%run phys.ipynb"
   ]
  },
  {
   "cell_type": "code",
   "execution_count": 35,
   "metadata": {},
   "outputs": [],
   "source": [
    "# state vector indices and units     \n",
    "class indices:\n",
    "    p, p_unit = 0, si.pascal\n",
    "    T, T_unit = 1, si.kelvin\n",
    "    q, q_unit = 2, si.dimensionless\n",
    "    t_unit = si.second\n",
    "    r_unit = si.metre\n",
    "    n_unit = 1/si.kilogram\n",
    "    \n",
    "    def __init__(self, n, fn):\n",
    "        assert(n > 0)\n",
    "        self.x = slice(3, 3 + n)\n",
    "        self.n = self.x.stop\n",
    "        self.x_unit = fn.x_unit"
   ]
  },
  {
   "cell_type": "code",
   "execution_count": 43,
   "metadata": {},
   "outputs": [],
   "source": [
    "class x_id:\n",
    "    x_unit = si.metre\n",
    "    x = lambda r: r\n",
    "    r = lambda x: x\n",
    "    dx_dr = lambda r: 1\n",
    "    \n",
    "class x_ln:\n",
    "    x_unit = si.dimensionless\n",
    "\n",
    "    def __init__(self, si):\n",
    "        self.si = si\n",
    "        self.r0 = 1 * si.metre\n",
    "\n",
    "    def x(self, r): return log(r / self.r0)\n",
    "    def r(self, x): return self.r0 * exp(x)\n",
    "    def dx_dr(self, r): return 1/r\n",
    "    \n",
    "class x_p2:\n",
    "    x_unit = si.metre**2\n",
    "    x = lambda r: r**2\n",
    "    r = lambda x: sqrt(x)\n",
    "    dx_dr = lambda r: 2*r"
   ]
  },
  {
   "cell_type": "code",
   "execution_count": 37,
   "metadata": {},
   "outputs": [],
   "source": [
    "# parcel model with monodisperse aerosol/droplet population\n",
    "class eqsys:\n",
    "    def __init__(self, ix, fn):\n",
    "        self.ix = ix\n",
    "        self.fn = fn\n",
    "        \n",
    "    def __call__(self, t, y):\n",
    "        ix = self.ix\n",
    "        fn = self.fn\n",
    "        \n",
    "        t = t * ix.t_unit\n",
    "        p = y[ix.p] * ix.p_unit\n",
    "        q = y[ix.q] * ix.q_unit\n",
    "        T = y[ix.T] * ix.T_unit\n",
    "        x = y[ix.x] * ix.x_unit\n",
    "\n",
    "        r = fn.r(x)\n",
    "        dp_dt = phys.dp_dt(p, T, self.w(t),q)\n",
    "        dr_dt = phys.dr_dt(r, T, phys.RH(T,p,q),self.kp,self.rd) \n",
    "        dq_dt = phys.dq_dt(self.nd, r, dr_dt)\n",
    "        dT_dt = phys.dT_dt(T, p, dp_dt,q,dq_dt)\n",
    "        \n",
    "        dy_dt = empty(ix.n)\n",
    "        dy_dt[ix.T] = (dT_dt / (ix.T_unit / ix.t_unit)).to(si.dimensionless)\n",
    "        dy_dt[ix.p] = (dp_dt / (ix.p_unit / ix.t_unit)).to(si.dimensionless)\n",
    "        dy_dt[ix.q] = (dq_dt / (ix.q_unit / ix.t_unit)).to(si.dimensionless)\n",
    "        dy_dt[ix.x] = ((fn.dx_dr(r) * dr_dt) / (ix.x_unit / ix.t_unit)).to(si.dimensionless)\n",
    "         \n",
    "        return dy_dt"
   ]
  },
  {
   "cell_type": "code",
   "execution_count": 44,
   "metadata": {},
   "outputs": [],
   "source": [
    "#wszystkie rd?\n",
    "def parcel(*, si, t, T0, p0, w, q0, kp, rd, nd, dt_max):\n",
    "    assert len(rd) == len(nd)\n",
    "    nr = len(rd)\n",
    "\n",
    "    fn = x_ln(si)\n",
    "    ix = indices(nr, fn)\n",
    "    sys = eqsys(ix, fn)\n",
    "    sys.w = w\n",
    "    sys.kp = kp # TODO: muultiple kappas\n",
    "    sys.rd = rd.to(ix.r_unit)\n",
    "    sys.nd = nd.to(ix.n_unit)\n",
    "        \n",
    "    r0 = empty(nr) * ix.r_unit\n",
    "    RH0 = phys.RH(T0, p0, q0)\n",
    "    for i in range(nr):\n",
    "        a = (sys.rd[i]/ix.r_unit).to(si.dimensionless)\n",
    "        b = (phys.r_cr(kp, sys.rd[i], T0)/ix.r_unit).to(si.dimensionless) \n",
    "        f = lambda r: (\n",
    "            phys.dr_dt(r * ix.r_unit, T0, RH0, kp, sys.rd[i]) / (ix.r_unit/ix.t_unit)\n",
    "        ).to(si.dimensionless)        \n",
    "        r0.magnitude[i] = root.brentq(f, a, b)\n",
    "        \n",
    "    x0 = fn.x(r0)\n",
    "        \n",
    "    y0 = empty(ix.n)\n",
    "    y0[ix.T] = (T0/ix.T_unit).to(si.dimensionless)\n",
    "    y0[ix.p] = (p0/ix.p_unit).to(si.dimensionless)\n",
    "    y0[ix.q] = (q0/ix.q_unit).to(si.dimensionless)\n",
    "    y0[ix.x] = (x0/ix.x_unit).to(si.dimensionless)\n",
    "        \n",
    "    integ = ode.solve_ivp(sys, [0,t / ix.t_unit], y0, method='BDF', max_step=dt_max/ix.t_unit)\n",
    "    assert integ.success, integ.message\n",
    "    return integ, ix, fn"
   ]
  },
  {
   "cell_type": "code",
   "execution_count": null,
   "metadata": {},
   "outputs": [],
   "source": [
    "    "
   ]
  },
  {
   "cell_type": "code",
   "execution_count": null,
   "metadata": {},
   "outputs": [],
   "source": []
  }
 ],
 "metadata": {
  "kernelspec": {
   "display_name": "Python 3",
   "language": "python",
   "name": "python3"
  },
  "language_info": {
   "codemirror_mode": {
    "name": "ipython",
    "version": 3
   },
   "file_extension": ".py",
   "mimetype": "text/x-python",
   "name": "python",
   "nbconvert_exporter": "python",
   "pygments_lexer": "ipython3",
   "version": "3.7.1"
  }
 },
 "nbformat": 4,
 "nbformat_minor": 2
}
