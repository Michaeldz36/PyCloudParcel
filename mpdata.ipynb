{
 "cells": [
  {
   "cell_type": "code",
   "execution_count": 4,
   "metadata": {},
   "outputs": [],
   "source": [
    "import numpy as np"
   ]
  },
  {
   "cell_type": "code",
   "execution_count": 5,
   "metadata": {},
   "outputs": [],
   "source": [
    "%run numerics.ipynb"
   ]
  },
  {
   "cell_type": "code",
   "execution_count": null,
   "metadata": {},
   "outputs": [],
   "source": []
  },
  {
   "cell_type": "code",
   "execution_count": null,
   "metadata": {},
   "outputs": [],
   "source": []
  },
  {
   "cell_type": "code",
   "execution_count": null,
   "metadata": {},
   "outputs": [],
   "source": []
  },
  {
   "cell_type": "code",
   "execution_count": 31,
   "metadata": {},
   "outputs": [
    {
     "name": "stdout",
     "output_type": "stream",
     "text": [
      "[ 1. 44.  1.  1.  1.  1.  1.]\n",
      "[ 1.  22.5 22.5  1.   1.   1.   1. ]\n",
      "[ 1.   11.75 22.5  11.75  1.    1.    1.  ]\n",
      "[ 1.     6.375 17.125 17.125  6.375  1.     1.   ]\n",
      "[ 1.      3.6875 11.75   17.125  11.75    3.6875  1.    ]\n",
      "[ 1.       2.34375  7.71875 14.4375  14.4375   7.71875  2.34375]\n"
     ]
    }
   ],
   "source": [
    "class MPDATA:\n",
    "    def __init__(self, nx, psi0):\n",
    "        assert len(psi0) == nx\n",
    "        \n",
    "        self.nm = numerics()\n",
    "        \n",
    "        self.i = slice(1, nx+1)\n",
    "        self.n = 0\n",
    "        \n",
    "        self.psi = np.empty(nx+2)\n",
    "        self.psi = (self.psi, self.psi.copy())\n",
    "        self.psi[-1][self.i] = psi0[:]\n",
    "                \n",
    "    def step(self, C):\n",
    "        self.n = (self.n+2) % 2 - 1\n",
    "        \n",
    "        psi, i, nm, n = self.psi, self.i, self.nm, self.n\n",
    "        \n",
    "        # quick-n-dirty zero-gradient boundary condition\n",
    "        # TODO: Jacobian!!!\n",
    "        psi[n][i.start - 1] = psi[n][i.start]\n",
    "        psi[n][i.stop] = psi[n][i.stop - 1]\n",
    "\n",
    "        # upwind\n",
    "        psi[n+1][i] = psi[n][i] - (\n",
    "            nm.F(psi[n][i],        psi[n][i+nm.one], C[i+nm.hlf]) - \n",
    "            nm.F(psi[n][i-nm.one], psi[n][i],        C[i-nm.hlf])\n",
    "        )\n",
    "\n",
    "        return psi[n+1][i]\n",
    "\n",
    "nx = 7\n",
    "nt = 5\n",
    "psi = np.empty(nx)\n",
    "psi[:] = 1\n",
    "psi[1] = 44\n",
    "C = np.empty(nx+1)\n",
    "C[:] = .5\n",
    "\n",
    "print(psi)\n",
    "mpdata = MPDATA(nx, psi)\n",
    "for t in range(nt): \n",
    "    psi = mpdata.step(C)\n",
    "    print(psi)"
   ]
  },
  {
   "cell_type": "raw",
   "metadata": {},
   "source": []
  },
  {
   "cell_type": "code",
   "execution_count": null,
   "metadata": {},
   "outputs": [],
   "source": []
  },
  {
   "cell_type": "code",
   "execution_count": null,
   "metadata": {},
   "outputs": [],
   "source": []
  }
 ],
 "metadata": {
  "kernelspec": {
   "display_name": "Python 3",
   "language": "python",
   "name": "python3"
  },
  "language_info": {
   "codemirror_mode": {
    "name": "ipython",
    "version": 3
   },
   "file_extension": ".py",
   "mimetype": "text/x-python",
   "name": "python",
   "nbconvert_exporter": "python",
   "pygments_lexer": "ipython3",
   "version": "3.7.1"
  }
 },
 "nbformat": 4,
 "nbformat_minor": 2
}
