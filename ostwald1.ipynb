{
 "cells": [
  {
   "cell_type": "code",
   "execution_count": 26,
   "metadata": {},
   "outputs": [],
   "source": [
    "from numpy import exp, log, sqrt, empty\n",
    "import numpy as np\n",
    "from scipy import constants as sci, integrate as ode, optimize as root"
   ]
  },
  {
   "cell_type": "code",
   "execution_count": 27,
   "metadata": {},
   "outputs": [],
   "source": [
    "import pint\n",
    "si = pint.UnitRegistry()"
   ]
  },
  {
   "cell_type": "code",
   "execution_count": 28,
   "metadata": {},
   "outputs": [],
   "source": [
    "import mendeleev as pt\n",
    "def awgh(x):\n",
    "    return x.atomic_weight * si.gram / si.mole"
   ]
  },
  {
   "cell_type": "code",
   "execution_count": 29,
   "metadata": {},
   "outputs": [],
   "source": [
    "# constants\n",
    "class phys:\n",
    "    g     = sci.g * si.metre / si.second**2\n",
    "    pi    = sci.pi\n",
    "    R_str = sci.R * si.joule / si.kelvin / si.mole       \n",
    "\n",
    "\n",
    "    c_pd  = 1005 * si.joule / si.kilogram / si.kelvin\n",
    "    c_pv  = 1850 * si.joule / si.kilogram / si.kelvin\n",
    "    c_pw  = 4218 * si.joule / si.kilogram / si.kelvin\n",
    "    \n",
    "    p_tri = 611.73  * si.pascal\n",
    "    T_tri = 273.16  * si.kelvin\n",
    "    l_tri = 2.5e6   * si.joule / si.kilogram\n",
    "    \n",
    "    sgm   = 0.072   * si.joule / si.metre**2\n",
    "    rho_w = 1 * si.kilograms / si.litres\n",
    "    \n",
    "    Md    = 0.78 * awgh(pt.N) * 2 + 0.21 * awgh(pt.O) * 2 + 0.01 * awgh(pt.Ar)\n",
    "    Mv    = awgh(pt.O) + awgh(pt.H) * 2\n",
    "    eps   = Mv / Md\n",
    "    Rd    = R_str / Md\n",
    "    Rv    = R_str / Mv\n",
    "    D0    = 2.26e-5 * si.metre**2 / si.second\n",
    "    K0    = 2.4e-2  * si.joules / si.metres / si.seconds / si.kelvins\n",
    "    \n",
    "    \n",
    "# pressure deriv. (hydrostatic) \n",
    "phys.dp_dt = lambda p, T, w, q: -(p / phys.R(q) / T) * phys.g * w\n",
    "\n",
    "\n",
    "# temperature deriv. (adiabatic)\n",
    "phys.dT_dt = lambda T,  p, dp_dt, q, dq_dt : (T * phys.R(q) / p * dp_dt - phys.lv(T)*dq_dt ) / phys.c_p(q)\n",
    "\n",
    "phys.sum = lambda r, dr_dt: np.dot(r**2, dr_dt)\n",
    "\n",
    "# specific humidity deriv. (monodisperse)\n",
    "# phys.dq_dt = lambda n, r, dr_dt: -4/3 * sci.pi * n * 3 * r**2 * dr_dt * phys.rho_w\n",
    "phys.dq_dt = lambda n, r, dr_dt: -4/3 * sci.pi * n * 3 * (phys.sum) * phys.rho_w\n",
    "\n",
    "# funkcja lambda wystarczy zdefiniować jedną i odwoływać się do niej\n",
    "phys.dr_dt = lambda r, T, RH, kp, rd: 1/r * (RH - 1 - phys.A(T)/r + phys.B(kp,rd)/r**3) / (phys.Fd(T)+phys.Fk(T,phys.lv(T)))\n",
    "\n",
    "# RH from specific humidity, temperature and pressure\n",
    "phys.RH = lambda T, p, q: p * q / (phys.eps + q * (1 - phys.eps)) / phys.pvs(T)\n",
    "\n",
    "\n",
    "#\n",
    "phys.mix = lambda q, dry, wet: wet/(1/q + 1) + dry/(1 + q)\n",
    "phys.c_p = lambda q: phys.mix(q, phys.c_pd, phys.c_pv)\n",
    "phys.R   = lambda q: phys.mix(q, phys.Rd, phys.Rv)\n",
    "\n",
    "# latent heat of evaporation \n",
    "phys.lv  = lambda T: phys.l_tri + (phys.c_pv - phys.c_pw) * (T - phys.T_tri)\n",
    "\n",
    "# Maxwel-Mason coefficients\n",
    "phys.Fd = lambda T: phys.rho_w * phys.Rv * T / phys.D0 / phys.pvs(T)\n",
    "phys.Fk = lambda T, lv: phys.rho_w * lv / phys.K0 / T * (lv / phys.Rv / T - 1)\n",
    "\n",
    "# Koehler curve (expressed in partial pressure)      <--- co z rd?\n",
    "phys.A = lambda T: 2 * phys.sgm / phys.Rv / T / phys.rho_w\n",
    "phys.B = lambda kp, rd: kp * rd**3\n",
    "\n",
    "# critical radius\n",
    "phys.r_cr = lambda kp, rd, T: sqrt(3 * kp * rd**3 / phys.A(T))\n"
   ]
  },
  {
   "cell_type": "code",
   "execution_count": 30,
   "metadata": {},
   "outputs": [],
   "source": [
    "# integrated Clausius-Clapeyron eq.\n",
    "phys.pvs = lambda T: phys.p_tri * exp(\n",
    "    (phys.l_tri + (phys.c_pw - phys.c_pv) * phys.T_tri) / phys.Rv * (1 / phys.T_tri - 1/T) - \n",
    "    (phys.c_pw - phys.c_pv) / phys.Rv * log(T / phys.T_tri)\n",
    ")"
   ]
  },
  {
   "cell_type": "code",
   "execution_count": 31,
   "metadata": {},
   "outputs": [],
   "source": [
    "# latent heat of evaporation \n",
    "phys.lv  = lambda T: phys.l_tri + (phys.c_pv - phys.c_pw) * (T - phys.T_tri)"
   ]
  },
  {
   "cell_type": "code",
   "execution_count": 32,
   "metadata": {},
   "outputs": [],
   "source": [
    "# state vector indices and units     \n",
    "class ix:\n",
    "    p, p_unit = 0, si.pascal\n",
    "    T, T_unit = 1, si.kelvin\n",
    "    q, q_unit = 2, si.dimensionless\n",
    "    r_beg, r_end, r_unit = 3, 4, si.metre\n",
    "    t_unit = si.second\n",
    "    n = 5"
   ]
  },
  {
   "cell_type": "code",
   "execution_count": 33,
   "metadata": {},
   "outputs": [],
   "source": [
    "# parcel model with monodisperse aerosol/droplet population\n",
    "class eqsys:   \n",
    "    def __call__(self, t, y):\n",
    "        \n",
    "        t = t * ix.t_unit\n",
    "        p = y[ix.p] * ix.p_unit\n",
    "        q = y[ix.q] * ix.q_unit\n",
    "        T = y[ix.T] * ix.T_unit\n",
    "        \n",
    "        # r jako array o wymiarach \n",
    "        r = np.empty(ix.r_end - ix.r_beg)\n",
    "        for i in range(ix.r_beg, ix.r_end):\n",
    "            r[i] = y[ix.r_beg + i] * ix.r_unit\n",
    "\n",
    "        dp_dt = phys.dp_dt(p, T, self.w(t),q)\n",
    "    \n",
    "    #rd jako tablica?\n",
    "        dr_dt = phys.dr_dt(r[0],T, phys.RH(T,p,q),self.kp,self.rd)\n",
    "        dr2_dt = phys.dr_dt(r[1],T, phys.RH(T,p,q),self.kp,self.rd)\n",
    "        \n",
    "        \n",
    "        dq_dt = phys.dq_dt(self.n,r, dr_dt)\n",
    "        dT_dt = phys.dT_dt(T, p, dp_dt,q,dq_dt)\n",
    "        \n",
    "        dy_dt = empty(ix.n)\n",
    "        dy_dt[ix.T] = (dT_dt / (ix.T_unit / ix.t_unit)).to(si.dimensionless)\n",
    "        dy_dt[ix.p] = (dp_dt / (ix.p_unit / ix.t_unit)).to(si.dimensionless)\n",
    "        dy_dt[ix.q] = (dq_dt / (ix.q_unit / ix.t_unit)).to(si.dimensionless)\n",
    "        \n",
    "        #które dr_dt?\n",
    "        dy_dt[ix.r] = (dr_dt / (ix.r_unit / ix.t_unit)).to(si.dimensionless)\n",
    "         \n",
    "        return dy_dt"
   ]
  },
  {
   "cell_type": "code",
   "execution_count": 34,
   "metadata": {},
   "outputs": [],
   "source": [
    "#wszystkie rd?\n",
    "def parcel(*, t, T0, p0, w, q0, n, kp, rd, dt_max):\n",
    "    sys = eqsys()\n",
    "    sys.w = w\n",
    "    sys.n = n\n",
    "    sys.kp = kp\n",
    "    sys.rd = rd \n",
    "    \n",
    "    r0 = np.empty(ix.r_end-ix.r_beg)\n",
    "    for i in range(ix.r_end-ix.r_beg):\n",
    "        r0[i] = ix.r_unit * root.brentq(\n",
    "        lambda x: (phys.dr_dt( x * ix.r_unit, T0, phys.RH(T0,p0,q0), kp, rd)/(ix.r_unit/ix.t_unit)).to(si.dimensionless) + x, \n",
    "        (rd/ix.r_unit).to(si.dimensionless),\n",
    "        (phys.r_cr(kp, rd, T0)/ix.r_unit).to(si.dimensionless) )\n",
    "\n",
    "    y0 = empty(ix.n)\n",
    "    y0[ix.T] = (T0/ix.T_unit).to(si.dimensionless)\n",
    "    y0[ix.p] = (p0/ix.p_unit).to(si.dimensionless)\n",
    "    y0[ix.q] = (q0/ix.q_unit).to(si.dimensionless)\n",
    "#     y0[ix.r_beg:ix.r_end] = (r0/ix.r_unit).to(si.dimensionless) \n",
    "    y0[ix.r_beg:ix.r_end] = [(x/ix.r_unit).to(si.dimensionless) for x in r0]    \n",
    "        \n",
    "    integ = ode.solve_ivp(sys, [0,t / ix.t_unit], y0, method='BDF', max_step=dt_max/ix.t_unit)\n",
    "    assert integ.success\n",
    "    return integ"
   ]
  },
  {
   "cell_type": "code",
   "execution_count": 35,
   "metadata": {},
   "outputs": [
    {
     "ename": "ValueError",
     "evalue": "setting an array element with a sequence.",
     "output_type": "error",
     "traceback": [
      "\u001b[1;31m---------------------------------------------------------------------------\u001b[0m",
      "\u001b[1;31mValueError\u001b[0m                                Traceback (most recent call last)",
      "\u001b[1;32m<ipython-input-35-63ac8b599f56>\u001b[0m in \u001b[0;36m<module>\u001b[1;34m\u001b[0m\n\u001b[0;32m      8\u001b[0m     \u001b[0mrd\u001b[0m \u001b[1;33m=\u001b[0m \u001b[1;36m.01\u001b[0m \u001b[1;33m*\u001b[0m \u001b[0msi\u001b[0m\u001b[1;33m.\u001b[0m\u001b[0mmicrometre\u001b[0m\u001b[1;33m,\u001b[0m\u001b[1;33m\u001b[0m\u001b[1;33m\u001b[0m\u001b[0m\n\u001b[0;32m      9\u001b[0m     \u001b[0mkp\u001b[0m \u001b[1;33m=\u001b[0m \u001b[1;36m1.28\u001b[0m\u001b[1;33m,\u001b[0m\u001b[1;33m\u001b[0m\u001b[1;33m\u001b[0m\u001b[0m\n\u001b[1;32m---> 10\u001b[1;33m     \u001b[0mdt_max\u001b[0m \u001b[1;33m=\u001b[0m \u001b[1;36m0.01\u001b[0m \u001b[1;33m*\u001b[0m \u001b[0msi\u001b[0m\u001b[1;33m.\u001b[0m\u001b[0msecond\u001b[0m\u001b[1;33m\u001b[0m\u001b[1;33m\u001b[0m\u001b[0m\n\u001b[0m\u001b[0;32m     11\u001b[0m )\n",
      "\u001b[1;32m<ipython-input-34-428609b2643c>\u001b[0m in \u001b[0;36mparcel\u001b[1;34m(t, T0, p0, w, q0, n, kp, rd, dt_max)\u001b[0m\n\u001b[0;32m     12\u001b[0m         \u001b[1;32mlambda\u001b[0m \u001b[0mx\u001b[0m\u001b[1;33m:\u001b[0m \u001b[1;33m(\u001b[0m\u001b[0mphys\u001b[0m\u001b[1;33m.\u001b[0m\u001b[0mdr_dt\u001b[0m\u001b[1;33m(\u001b[0m \u001b[0mx\u001b[0m \u001b[1;33m*\u001b[0m \u001b[0mix\u001b[0m\u001b[1;33m.\u001b[0m\u001b[0mr_unit\u001b[0m\u001b[1;33m,\u001b[0m \u001b[0mT0\u001b[0m\u001b[1;33m,\u001b[0m \u001b[0mphys\u001b[0m\u001b[1;33m.\u001b[0m\u001b[0mRH\u001b[0m\u001b[1;33m(\u001b[0m\u001b[0mT0\u001b[0m\u001b[1;33m,\u001b[0m\u001b[0mp0\u001b[0m\u001b[1;33m,\u001b[0m\u001b[0mq0\u001b[0m\u001b[1;33m)\u001b[0m\u001b[1;33m,\u001b[0m \u001b[0mkp\u001b[0m\u001b[1;33m,\u001b[0m \u001b[0mrd\u001b[0m\u001b[1;33m)\u001b[0m\u001b[1;33m/\u001b[0m\u001b[1;33m(\u001b[0m\u001b[0mix\u001b[0m\u001b[1;33m.\u001b[0m\u001b[0mr_unit\u001b[0m\u001b[1;33m/\u001b[0m\u001b[0mix\u001b[0m\u001b[1;33m.\u001b[0m\u001b[0mt_unit\u001b[0m\u001b[1;33m)\u001b[0m\u001b[1;33m)\u001b[0m\u001b[1;33m.\u001b[0m\u001b[0mto\u001b[0m\u001b[1;33m(\u001b[0m\u001b[0msi\u001b[0m\u001b[1;33m.\u001b[0m\u001b[0mdimensionless\u001b[0m\u001b[1;33m)\u001b[0m \u001b[1;33m+\u001b[0m \u001b[0mx\u001b[0m\u001b[1;33m,\u001b[0m\u001b[1;33m\u001b[0m\u001b[1;33m\u001b[0m\u001b[0m\n\u001b[0;32m     13\u001b[0m         \u001b[1;33m(\u001b[0m\u001b[0mrd\u001b[0m\u001b[1;33m/\u001b[0m\u001b[0mix\u001b[0m\u001b[1;33m.\u001b[0m\u001b[0mr_unit\u001b[0m\u001b[1;33m)\u001b[0m\u001b[1;33m.\u001b[0m\u001b[0mto\u001b[0m\u001b[1;33m(\u001b[0m\u001b[0msi\u001b[0m\u001b[1;33m.\u001b[0m\u001b[0mdimensionless\u001b[0m\u001b[1;33m)\u001b[0m\u001b[1;33m,\u001b[0m\u001b[1;33m\u001b[0m\u001b[1;33m\u001b[0m\u001b[0m\n\u001b[1;32m---> 14\u001b[1;33m         (phys.r_cr(kp, rd, T0)/ix.r_unit).to(si.dimensionless) )\n\u001b[0m\u001b[0;32m     15\u001b[0m \u001b[1;33m\u001b[0m\u001b[0m\n\u001b[0;32m     16\u001b[0m     \u001b[0my0\u001b[0m \u001b[1;33m=\u001b[0m \u001b[0mempty\u001b[0m\u001b[1;33m(\u001b[0m\u001b[0mix\u001b[0m\u001b[1;33m.\u001b[0m\u001b[0mn\u001b[0m\u001b[1;33m)\u001b[0m\u001b[1;33m\u001b[0m\u001b[1;33m\u001b[0m\u001b[0m\n",
      "\u001b[1;31mValueError\u001b[0m: setting an array element with a sequence."
     ]
    }
   ],
   "source": [
    "integ = parcel(\n",
    "    t = 40 * si.seconds,\n",
    "    T0 = 300 * si.kelvin,\n",
    "    q0 = 21 * si.grams / si.kilogram,\n",
    "    p0 = 1000 * si.hectopascals,\n",
    "    w = lambda t: 10* si.metre / si.second,\n",
    "    n = 1000 / si.centimetre**3 / (1 * si.kilogram / si.metre**3),\n",
    "    rd = .01 * si.micrometre,\n",
    "    kp = 1.28,\n",
    "    dt_max = 0.01 * si.second\n",
    ")"
   ]
  },
  {
   "cell_type": "code",
   "execution_count": 20,
   "metadata": {},
   "outputs": [],
   "source": [
    "%matplotlib notebook\n",
    "import matplotlib.pyplot as plt\n",
    "si.setup_matplotlib()"
   ]
  },
  {
   "cell_type": "code",
   "execution_count": 21,
   "metadata": {},
   "outputs": [
    {
     "ename": "NameError",
     "evalue": "name 'integ' is not defined",
     "output_type": "error",
     "traceback": [
      "\u001b[1;31m---------------------------------------------------------------------------\u001b[0m",
      "\u001b[1;31mNameError\u001b[0m                                 Traceback (most recent call last)",
      "\u001b[1;32m<ipython-input-21-9d9d485795fd>\u001b[0m in \u001b[0;36m<module>\u001b[1;34m\u001b[0m\n\u001b[1;32m----> 1\u001b[1;33m \u001b[0mT\u001b[0m \u001b[1;33m=\u001b[0m \u001b[0minteg\u001b[0m\u001b[1;33m.\u001b[0m\u001b[0my\u001b[0m\u001b[1;33m[\u001b[0m\u001b[0mix\u001b[0m\u001b[1;33m.\u001b[0m\u001b[0mT\u001b[0m\u001b[1;33m]\u001b[0m \u001b[1;33m*\u001b[0m \u001b[0mix\u001b[0m\u001b[1;33m.\u001b[0m\u001b[0mT_unit\u001b[0m\u001b[1;33m\u001b[0m\u001b[1;33m\u001b[0m\u001b[0m\n\u001b[0m\u001b[0;32m      2\u001b[0m \u001b[0mp\u001b[0m \u001b[1;33m=\u001b[0m \u001b[0minteg\u001b[0m\u001b[1;33m.\u001b[0m\u001b[0my\u001b[0m\u001b[1;33m[\u001b[0m\u001b[0mix\u001b[0m\u001b[1;33m.\u001b[0m\u001b[0mp\u001b[0m\u001b[1;33m]\u001b[0m \u001b[1;33m*\u001b[0m \u001b[0mix\u001b[0m\u001b[1;33m.\u001b[0m\u001b[0mp_unit\u001b[0m\u001b[1;33m\u001b[0m\u001b[1;33m\u001b[0m\u001b[0m\n\u001b[0;32m      3\u001b[0m \u001b[0mq\u001b[0m \u001b[1;33m=\u001b[0m \u001b[0minteg\u001b[0m\u001b[1;33m.\u001b[0m\u001b[0my\u001b[0m\u001b[1;33m[\u001b[0m\u001b[0mix\u001b[0m\u001b[1;33m.\u001b[0m\u001b[0mq\u001b[0m\u001b[1;33m]\u001b[0m \u001b[1;33m*\u001b[0m \u001b[0mix\u001b[0m\u001b[1;33m.\u001b[0m\u001b[0mq_unit\u001b[0m\u001b[1;33m\u001b[0m\u001b[1;33m\u001b[0m\u001b[0m\n\u001b[0;32m      4\u001b[0m \u001b[0mt\u001b[0m \u001b[1;33m=\u001b[0m \u001b[0minteg\u001b[0m\u001b[1;33m.\u001b[0m\u001b[0mt\u001b[0m \u001b[1;33m*\u001b[0m \u001b[0mix\u001b[0m\u001b[1;33m.\u001b[0m\u001b[0mt_unit\u001b[0m\u001b[1;33m\u001b[0m\u001b[1;33m\u001b[0m\u001b[0m\n",
      "\u001b[1;31mNameError\u001b[0m: name 'integ' is not defined"
     ]
    }
   ],
   "source": [
    "T = integ.y[ix.T] * ix.T_unit\n",
    "p = integ.y[ix.p] * ix.p_unit\n",
    "q = integ.y[ix.q] * ix.q_unit\n",
    "t = integ.t * ix.t_unit"
   ]
  },
  {
   "cell_type": "code",
   "execution_count": null,
   "metadata": {
    "scrolled": false
   },
   "outputs": [],
   "source": [
    "fig, (ax1, ax2, ax3) = plt.subplots(1, 3, sharey=True, figsize=(9,4))\n",
    "\n",
    "plt.xticks([])\n",
    "plt.yticks([])\n",
    "ax1.set_ylim([0, 42])\n",
    "\n",
    "ax1.plot(T, t, label=\"T\")\n",
    "ax1.grid()\n",
    "ax1.legend()\n",
    "ax1.xaxis.set_units(si.celsius)\n",
    "\n",
    "ax2.plot(p, t, label=\"p\")\n",
    "ax2.grid()\n",
    "ax2.legend()\n",
    "ax2.xaxis.set_units(si.hectopascals)\n",
    "\n",
    "ax3.plot(phys.RH(T, p, q), t, label=\"RH\")\n",
    "ax3.grid()\n",
    "ax3.legend()\n",
    "\n",
    "plt.show()"
   ]
  },
  {
   "cell_type": "code",
   "execution_count": null,
   "metadata": {},
   "outputs": [],
   "source": []
  },
  {
   "cell_type": "code",
   "execution_count": null,
   "metadata": {},
   "outputs": [],
   "source": []
  },
  {
   "cell_type": "code",
   "execution_count": null,
   "metadata": {},
   "outputs": [],
   "source": []
  },
  {
   "cell_type": "code",
   "execution_count": null,
   "metadata": {},
   "outputs": [],
   "source": []
  },
  {
   "cell_type": "code",
   "execution_count": null,
   "metadata": {},
   "outputs": [],
   "source": []
  },
  {
   "cell_type": "code",
   "execution_count": null,
   "metadata": {},
   "outputs": [],
   "source": []
  },
  {
   "cell_type": "code",
   "execution_count": null,
   "metadata": {},
   "outputs": [],
   "source": []
  }
 ],
 "metadata": {
  "kernelspec": {
   "display_name": "Python 3",
   "language": "python",
   "name": "python3"
  },
  "language_info": {
   "codemirror_mode": {
    "name": "ipython",
    "version": 3
   },
   "file_extension": ".py",
   "mimetype": "text/x-python",
   "name": "python",
   "nbconvert_exporter": "python",
   "pygments_lexer": "ipython3",
   "version": "3.7.1"
  }
 },
 "nbformat": 4,
 "nbformat_minor": 2
}
