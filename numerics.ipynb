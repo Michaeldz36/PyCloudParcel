{
 "cells": [
  {
   "cell_type": "code",
   "execution_count": 9,
   "metadata": {},
   "outputs": [],
   "source": [
    "class numerics:\n",
    "    class shift():\n",
    "        def __init__(self, plus, mnus):\n",
    "            self.plus = plus\n",
    "            self.mnus = mnus\n",
    "\n",
    "        def __radd__(self, arg):\n",
    "            return type(arg)(\n",
    "                arg.start + self.plus,\n",
    "                arg.stop + self.plus\n",
    "            )\n",
    "\n",
    "        def __rsub__(self, arg):\n",
    "            return type(arg)(\n",
    "                arg.start - self.mnus,\n",
    "                arg.stop - self.mnus\n",
    "            )\n",
    "        \n",
    "        def __rmod__(self, arg):\n",
    "            return type(arg)(\n",
    "                arg.start - self.mnus,\n",
    "                arg.stop + self.plus\n",
    "            )\n",
    "\n",
    "    def __init__(self):\n",
    "        self.one = self.shift(1,1)\n",
    "        self.hlf = self.shift(0,1)\n",
    "    \n",
    "    def F(self, psi_l, psi_r, C):\n",
    "        return np.maximum(0, C) * psi_l + np.minimum(0, C) * psi_r"
   ]
  },
  {
   "cell_type": "code",
   "execution_count": null,
   "metadata": {},
   "outputs": [],
   "source": []
  },
  {
   "cell_type": "code",
   "execution_count": null,
   "metadata": {},
   "outputs": [],
   "source": []
  },
  {
   "cell_type": "code",
   "execution_count": null,
   "metadata": {},
   "outputs": [],
   "source": []
  },
  {
   "cell_type": "code",
   "execution_count": null,
   "metadata": {},
   "outputs": [],
   "source": []
  },
  {
   "cell_type": "code",
   "execution_count": null,
   "metadata": {},
   "outputs": [],
   "source": []
  },
  {
   "cell_type": "code",
   "execution_count": null,
   "metadata": {},
   "outputs": [],
   "source": []
  }
 ],
 "metadata": {
  "kernelspec": {
   "display_name": "Python 3",
   "language": "python",
   "name": "python3"
  },
  "language_info": {
   "codemirror_mode": {
    "name": "ipython",
    "version": 3
   },
   "file_extension": ".py",
   "mimetype": "text/x-python",
   "name": "python",
   "nbconvert_exporter": "python",
   "pygments_lexer": "ipython3",
   "version": "3.7.1"
  }
 },
 "nbformat": 4,
 "nbformat_minor": 2
}
